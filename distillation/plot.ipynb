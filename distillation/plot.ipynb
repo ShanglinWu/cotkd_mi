{
 "cells": [
  {
   "cell_type": "code",
   "execution_count": null,
   "metadata": {},
   "outputs": [],
   "source": [
    "import json\n",
    "import matplotlib.pyplot as plt\n",
    "import seaborn as sns\n",
    "import numpy as np\n",
    "from scipy import stats\n",
    "\n",
    "def load_evaluation_results(file_path):\n",
    "    with open(file_path, 'r') as f:\n",
    "        results = json.load(f)\n",
    "    return results['all_distances'], results['means']\n",
    "\n",
    "def plot_sorted_distances(all_distances):\n",
    "    plt.figure(figsize=(12, 6))\n",
    "\n",
    "    checkpoints = [0, 2, 7]\n",
    "    colors = ['red', 'green', 'blue']\n",
    "    labels = ['Checkpoint 0', 'Checkpoint 2', 'Checkpoint 7']\n",
    "\n",
    "    for checkpoint, color, label in zip(checkpoints, colors, labels):\n",
    "        sorted_distances = all_distances[str(checkpoint)]\n",
    "        plt.hist(sorted_distances, bins=20, alpha=0.5, color=color, label=label)\n",
    "\n",
    "    plt.xlabel('Distance')\n",
    "    plt.ylabel('Frequency')\n",
    "    plt.title('Distribution of Distances for Checkpoints 0, 2, and 7')\n",
    "    plt.legend()\n",
    "    plt.grid(True, which='both', linestyle='--', linewidth=0.5)\n",
    "\n",
    "def advanced_analysis(all_distances):\n",
    "    fig = plt.figure(figsize=(15, 10))\n",
    "\n",
    "    # 箱型图\n",
    "    ax1 = fig.add_subplot(221)\n",
    "    sns.boxplot(data=[all_distances[str(i)] for i in range(10)], ax=ax1)\n",
    "    ax1.set_title('Boxplot of Distances for Each Checkpoint')\n",
    "    ax1.set_xlabel('Checkpoint')\n",
    "    ax1.set_ylabel('Distance')\n",
    "\n",
    "    # CDF\n",
    "    ax2 = fig.add_subplot(222)\n",
    "    for i in range(0, 10, 2):  # 每隔一个checkpoint画一条CDF曲线\n",
    "        sns.ecdfplot(all_distances[str(i)], label=f'Checkpoint {i}', ax=ax2)\n",
    "    ax2.set_title('Cumulative Distribution Function of Distances')\n",
    "    ax2.set_xlabel('Distance')\n",
    "    ax2.set_ylabel('Cumulative Probability')\n",
    "    ax2.legend()\n",
    "\n",
    "    # 中位数和四分位数范围\n",
    "    medians = [np.median(all_distances[str(i)]) for i in range(10)]\n",
    "    q1 = [np.percentile(all_distances[str(i)], 25) for i in range(10)]\n",
    "    q3 = [np.percentile(all_distances[str(i)], 75) for i in range(10)]\n",
    "\n",
    "    ax3 = fig.add_subplot(223)\n",
    "    ax3.plot(range(10), medians, marker='o', label='Median')\n",
    "    ax3.fill_between(range(10), q1, q3, alpha=0.2, label='IQR')\n",
    "    ax3.set_title('Median and IQR of Distances')\n",
    "    ax3.set_xlabel('Checkpoint')\n",
    "    ax3.set_ylabel('Distance')\n",
    "    ax3.legend()\n",
    "\n",
    "    # 距离变化率\n",
    "    changes = [np.mean(all_distances[str(i+1)]) - np.mean(all_distances[str(i)]) for i in range(9)]\n",
    "    ax4 = fig.add_subplot(224)\n",
    "    ax4.bar(range(9), changes)\n",
    "    ax4.set_title('Average Change in Distance Between Checkpoints')\n",
    "    ax4.set_xlabel('Checkpoint Transition')\n",
    "    ax4.set_ylabel('Change in Average Distance')\n",
    "\n",
    "    plt.tight_layout()\n",
    "\n",
    "    # 计算并打印一些统计量\n",
    "    print(\"Statistics:\")\n",
    "    for i in range(10):\n",
    "        print(f\"Checkpoint {i}:\")\n",
    "        print(f\"  Mean: {np.mean(all_distances[str(i)]):.2f}\")\n",
    "        print(f\"  Median: {np.median(all_distances[str(i)]):.2f}\")\n",
    "        print(f\"  Std Dev: {np.std(all_distances[str(i)]):.2f}\")\n",
    "        print(f\"  Skewness: {stats.skew(all_distances[str(i)]):.2f}\")\n",
    "        print(f\"  Kurtosis: {stats.kurtosis(all_distances[str(i)]):.2f}\")\n",
    "        print()\n",
    "\n",
    "def plot_means(means):\n",
    "    plt.figure(figsize=(10, 6))\n",
    "    plt.plot(range(10), means, marker='o')\n",
    "    plt.xlabel('Checkpoint')\n",
    "    plt.ylabel('Mean Distance')\n",
    "    plt.title('Mean Distance for Each Checkpoint')\n",
    "    plt.xticks(range(10))\n",
    "\n",
    "def main():\n",
    "    version = \"distractor\"\n",
    "    # 从保存的文件中加载数据\n",
    "    all_distances, means = load_evaluation_results(\"evaluation_results\"+version+\".json\")\n",
    "\n",
    "    # 绘制直方图\n",
    "    plot_sorted_distances(all_distances)\n",
    "    plt.show()\n",
    "\n",
    "    # 进行高级分析并绘图\n",
    "    advanced_analysis(all_distances)\n",
    "    plt.show()\n",
    "\n",
    "    # 绘制均值折线图\n",
    "    plot_means(means)\n",
    "    plt.show()\n",
    "\n",
    "if __name__ == \"__main__\":\n",
    "    main()"
   ]
  },
  {
   "cell_type": "code",
   "execution_count": null,
   "metadata": {},
   "outputs": [],
   "source": [
    "import json\n",
    "import matplotlib.pyplot as plt\n",
    "import seaborn as sns\n",
    "import numpy as np\n",
    "from scipy import stats\n",
    "\n",
    "def load_data(version):\n",
    "    with open(f\"evaluation_results{version}.json\", \"r\") as f:\n",
    "        return json.load(f)\n",
    "\n",
    "def compare_medians(base_data, distractor_data, modified_data):\n",
    "    plt.figure(figsize=(12, 6))\n",
    "    for data, label in zip([base_data, distractor_data, modified_data], ['Base', 'Distractor', 'Modified']):\n",
    "        medians = [np.median(data['all_distances'][str(i)]) for i in range(10)]\n",
    "        plt.plot(range(10), medians, marker='o', label=label)\n",
    "    plt.xlabel('Checkpoint')\n",
    "    plt.ylabel('Median Distance')\n",
    "    plt.title('Comparison of Median Distances Across Versions')\n",
    "    plt.legend()\n",
    "    plt.grid(True)\n",
    "    plt.show()\n",
    "\n",
    "def compare_distributions(base_data, distractor_data, modified_data):\n",
    "    fig, axs = plt.subplots(1, 3, figsize=(15, 5))\n",
    "    for i, checkpoint in enumerate([0, 4, 9]):  # Compare first, middle, and last checkpoints\n",
    "        sns.kdeplot(base_data['all_distances'][str(checkpoint)], label='Base', ax=axs[i])\n",
    "        sns.kdeplot(distractor_data['all_distances'][str(checkpoint)], label='Distractor', ax=axs[i])\n",
    "        sns.kdeplot(modified_data['all_distances'][str(checkpoint)], label='Modified', ax=axs[i])\n",
    "        axs[i].set_title(f'Checkpoint {checkpoint}')\n",
    "        axs[i].set_xlabel('Distance')\n",
    "        axs[i].set_ylabel('Density')\n",
    "        axs[i].legend()\n",
    "    plt.tight_layout()\n",
    "    plt.show()\n",
    "\n",
    "def compare_statistics(base_data, distractor_data, modified_data):\n",
    "    versions = ['Base', 'Distractor', 'Modified']\n",
    "    stats_data = {v: {} for v in versions}\n",
    "    \n",
    "    for version, data in zip(versions, [base_data, distractor_data, modified_data]):\n",
    "        for checkpoint in range(10):\n",
    "            distances = data['all_distances'][str(checkpoint)]\n",
    "            stats_data[version][checkpoint] = {\n",
    "                'median': np.median(distances),\n",
    "                'mean': np.mean(distances),\n",
    "                'std': np.std(distances),\n",
    "                'iqr': np.percentile(distances, 75) - np.percentile(distances, 25)\n",
    "            }\n",
    "    \n",
    "    # Print summary statistics\n",
    "    for stat in ['median', 'mean', 'std', 'iqr']:\n",
    "        print(f\"\\nComparison of {stat.upper()}:\")\n",
    "        for version in versions:\n",
    "            values = [stats_data[version][cp][stat] for cp in range(10)]\n",
    "            print(f\"{version}: Min = {min(values):.2f}, Max = {max(values):.2f}, Avg = {np.mean(values):.2f}\")\n",
    "\n",
    "    return stats_data\n",
    "\n",
    "def performance_improvement(data):\n",
    "    first_checkpoint = np.median(data['all_distances']['0'])\n",
    "    last_checkpoint = np.median(data['all_distances']['9'])\n",
    "    return (first_checkpoint - last_checkpoint) / first_checkpoint * 100\n",
    "\n",
    "def main():\n",
    "    base_data = load_data(\"base\")\n",
    "    distractor_data = load_data(\"distractor\")\n",
    "    modified_data = load_data(\"modified\")\n",
    "\n",
    "    compare_medians(base_data, distractor_data, modified_data)\n",
    "    compare_distributions(base_data, distractor_data, modified_data)\n",
    "    stats_data = compare_statistics(base_data, distractor_data, modified_data)\n",
    "\n",
    "    # Calculate overall performance improvement\n",
    "    print(\"\\nOverall Performance Improvement:\")\n",
    "    for version, data in zip(['Base', 'Distractor', 'Modified'], [base_data, distractor_data, modified_data]):\n",
    "        improvement = performance_improvement(data)\n",
    "        print(f\"{version}: {improvement:.2f}%\")\n",
    "\n",
    "if __name__ == \"__main__\":\n",
    "    main()"
   ]
  },
  {
   "cell_type": "markdown",
   "metadata": {},
   "source": [
    "## Performance Evaluation"
   ]
  },
  {
   "cell_type": "code",
   "execution_count": 3,
   "metadata": {},
   "outputs": [
    {
     "name": "stdout",
     "output_type": "stream",
     "text": [
      "Using device: cuda:1\n"
     ]
    }
   ],
   "source": []
  },
  {
   "cell_type": "markdown",
   "metadata": {},
   "source": [
    "Result of test version: base\n",
    "\n",
    "base model: 0.9861218089788732\n",
    "distractor model: 0.9765165441176471\n",
    "modified model: 0.9827586206896551\n",
    "\n",
    "Result of test version: distractor:\n",
    "base model: 0.997422526322782\n",
    "distractor model: 0.9977452057023164\n",
    "modified model: 0.9977168830762655\n",
    "\n"
   ]
  },
  {
   "cell_type": "code",
   "execution_count": 2,
   "metadata": {},
   "outputs": [
    {
     "name": "stderr",
     "output_type": "stream",
     "text": [
      "/tmp/ipykernel_2590716/4090110972.py:40: UserWarning: set_ticklabels() should only be used with a fixed number of ticks, i.e. after set_ticks() or using a FixedLocator.\n",
      "  ax.set_xticklabels(models, rotation=45, ha='right')\n",
      "/tmp/ipykernel_2590716/4090110972.py:40: UserWarning: set_ticklabels() should only be used with a fixed number of ticks, i.e. after set_ticks() or using a FixedLocator.\n",
      "  ax.set_xticklabels(models, rotation=45, ha='right')\n"
     ]
    },
    {
     "data": {
      "image/png": "[encoded data removed]",
      "text/plain": [
       "<Figure size 1600x600 with 2 Axes>"
      ]
     },
     "metadata": {},
     "output_type": "display_data"
    }
   ],
   "source": [
    "import matplotlib.pyplot as plt\n",
    "import numpy as np\n",
    "\n",
    "# Data\n",
    "test_versions = ['Base Test', 'Distractor Test']\n",
    "models = ['Teacher', 'Base', 'Distractor', 'Modified']\n",
    "\n",
    "results = {\n",
    "    'Base Test': [0.2222222222222222, 0.9861218089788732, 0.9765165441176471, 0.9827586206896551],\n",
    "    'Distractor Test': [0.5714285714285714, 0.997422526322782, 0.9977452057023164, 0.9977168830762655]\n",
    "}\n",
    "\n",
    "# Set up the plot\n",
    "fig, (ax1, ax2) = plt.subplots(1, 2, figsize=(16, 6))\n",
    "fig.suptitle('Model Performance Comparison', fontsize=16)\n",
    "\n",
    "# Colors for the bars\n",
    "colors = ['#FFA07A', '#98FB98', '#87CEFA', '#DDA0DD']\n",
    "\n",
    "# Function to create histogram for each test version\n",
    "def create_histogram(ax, data, title):\n",
    "    bars = ax.bar(models, data, color=colors)\n",
    "    ax.set_title(title, fontsize=14)\n",
    "    ax.set_ylabel('Score', fontsize=12)\n",
    "    ax.set_ylim(0, 1.1)  # Set y-axis limit from 0 to 1.1\n",
    "    \n",
    "    # Add value labels on the bars\n",
    "    for bar in bars:\n",
    "        height = bar.get_height()\n",
    "        ax.annotate(f'{height:.4f}',\n",
    "                    xy=(bar.get_x() + bar.get_width() / 2, height),\n",
    "                    xytext=(0, 3),  # 3 points vertical offset\n",
    "                    textcoords=\"offset points\",\n",
    "                    ha='center', va='bottom', rotation=90, fontsize=9)\n",
    "    \n",
    "    # Add grid for easier comparison\n",
    "    ax.grid(True, axis='y', linestyle='--', alpha=0.7)\n",
    "    \n",
    "    # Rotate x-axis labels for better readability\n",
    "    ax.set_xticklabels(models, rotation=45, ha='right')\n",
    "\n",
    "# Create histograms\n",
    "create_histogram(ax1, results['Base Test'], 'Base Test Version')\n",
    "create_histogram(ax2, results['Distractor Test'], 'Distractor Test Version')\n",
    "\n",
    "# Adjust layout and display the plot\n",
    "plt.tight_layout()\n",
    "plt.savefig('model_performance_comparison.png', dpi=300, bbox_inches='tight')\n",
    "plt.show()"
   ]
  },
  {
   "cell_type": "markdown",
   "metadata": {},
   "source": [
    "## Test performance on models"
   ]
  },
  {
   "cell_type": "markdown",
   "metadata": {},
   "source": [
    "GPT-neox-20b"
   ]
  },
  {
   "cell_type": "code",
   "execution_count": 1,
   "metadata": {},
   "outputs": [
    {
     "name": "stdout",
     "output_type": "stream",
     "text": [
      "Processing version: base\n"
     ]
    },
    {
     "name": "stderr",
     "output_type": "stream",
     "text": [
      "100%|██████████| 551/551 [00:00<00:00, 1634.94it/s]\n"
     ]
    },
    {
     "name": "stdout",
     "output_type": "stream",
     "text": [
      "Median distance for base: 0.2222222222222222\n",
      "Distances for base saved.\n",
      "Processing version: distractor\n"
     ]
    },
    {
     "name": "stderr",
     "output_type": "stream",
     "text": [
      "100%|██████████| 551/551 [00:00<00:00, 929.81it/s] \n"
     ]
    },
    {
     "name": "stdout",
     "output_type": "stream",
     "text": [
      "Median distance for distractor: 0.5714285714285714\n",
      "Distances for distractor saved.\n",
      "Processing version: modified\n"
     ]
    },
    {
     "name": "stderr",
     "output_type": "stream",
     "text": [
      " 37%|███▋      | 204/551 [00:00<00:00, 981.47it/s] "
     ]
    },
    {
     "name": "stderr",
     "output_type": "stream",
     "text": [
      "100%|██████████| 551/551 [00:00<00:00, 985.27it/s] "
     ]
    },
    {
     "name": "stdout",
     "output_type": "stream",
     "text": [
      "Median distance for modified: 0.6\n",
      "Distances for modified saved.\n"
     ]
    },
    {
     "name": "stderr",
     "output_type": "stream",
     "text": [
      "\n"
     ]
    }
   ],
   "source": [
    "import json\n",
    "import numpy as np\n",
    "from tqdm import tqdm\n",
    "from calculate_distance import compare_rationales\n",
    "\n",
    "def load_jsonl(file_path):\n",
    "    with open(file_path, 'r') as f:\n",
    "        return [json.loads(line) for line in f]\n",
    "\n",
    "def calculate_distances(model_output, gold_data, version):\n",
    "    distances = []\n",
    "    for model_item, gold_item in tqdm(zip(model_output, gold_data), total=len(model_output)):\n",
    "        model_cot = {\n",
    "            \"chain_of_thought\": model_item[\"chain_of_thought\"],\n",
    "            \"answer\": model_item[\"answer\"],\n",
    "            \"question\": model_item[\"question\"]\n",
    "        }\n",
    "        gold_cot = {\n",
    "            \"chain_of_thought\": gold_item[version][\"chain_of_thought\"],\n",
    "            \"answer\": gold_item[version][\"answer\"],\n",
    "            \"question\": gold_item[version][\"question\"]\n",
    "        }\n",
    "        distance = compare_rationales(model_cot, gold_cot)\n",
    "        distances.append(distance)\n",
    "    return distances\n",
    "\n",
    "def main():\n",
    "    versions = ['base', 'distractor', 'modified']\n",
    "    gold_data_path = \"./data/CounterCoTQA/dev.jsonl\"\n",
    "    \n",
    "    gold_data = load_jsonl(gold_data_path)\n",
    "\n",
    "    for version in versions:\n",
    "        print(f\"Processing version: {version}\")\n",
    "        \n",
    "        model_output_path = f\"./outputs/CounterCoTQA/gpt-neox-20b/dev.{version}.explanation.jsonl\"\n",
    "        model_output = load_jsonl(model_output_path)\n",
    "        \n",
    "        distances = calculate_distances(model_output, gold_data, version)\n",
    "        \n",
    "        median_distance = np.median(distances)\n",
    "        print(f\"Median distance for {version}: {median_distance}\")\n",
    "        \n",
    "        \n",
    "        print(f\"Distances for {version} saved.\")\n",
    "\n",
    "if __name__ == \"__main__\":\n",
    "    main()"
   ]
  },
  {
   "cell_type": "markdown",
   "metadata": {},
   "source": [
    "gemme-2b"
   ]
  },
  {
   "cell_type": "code",
   "execution_count": 1,
   "metadata": {},
   "outputs": [
    {
     "name": "stdout",
     "output_type": "stream",
     "text": [
      "Processing version: base\n"
     ]
    },
    {
     "name": "stderr",
     "output_type": "stream",
     "text": [
      " 28%|██▊       | 28/100 [00:00<00:00, 1417.37it/s]\n"
     ]
    },
    {
     "ename": "IndexError",
     "evalue": "list index out of range",
     "output_type": "error",
     "traceback": [
      "\u001b[0;31m---------------------------------------------------------------------------\u001b[0m",
      "\u001b[0;31mIndexError\u001b[0m                                Traceback (most recent call last)",
      "Cell \u001b[0;32mIn[1], line 49\u001b[0m\n\u001b[1;32m     46\u001b[0m         \u001b[38;5;28mprint\u001b[39m(\u001b[38;5;124mf\u001b[39m\u001b[38;5;124m\"\u001b[39m\u001b[38;5;124mDistances for \u001b[39m\u001b[38;5;132;01m{\u001b[39;00mversion\u001b[38;5;132;01m}\u001b[39;00m\u001b[38;5;124m saved.\u001b[39m\u001b[38;5;124m\"\u001b[39m)\n\u001b[1;32m     48\u001b[0m \u001b[38;5;28;01mif\u001b[39;00m \u001b[38;5;18m__name__\u001b[39m \u001b[38;5;241m==\u001b[39m \u001b[38;5;124m\"\u001b[39m\u001b[38;5;124m__main__\u001b[39m\u001b[38;5;124m\"\u001b[39m:\n\u001b[0;32m---> 49\u001b[0m     \u001b[43mmain\u001b[49m\u001b[43m(\u001b[49m\u001b[43m)\u001b[49m\n",
      "Cell \u001b[0;32mIn[1], line 40\u001b[0m, in \u001b[0;36mmain\u001b[0;34m()\u001b[0m\n\u001b[1;32m     37\u001b[0m model_output_path \u001b[38;5;241m=\u001b[39m \u001b[38;5;124mf\u001b[39m\u001b[38;5;124m\"\u001b[39m\u001b[38;5;124m./outputs/CounterCoTQA/gpt-4o/dev.\u001b[39m\u001b[38;5;132;01m{\u001b[39;00mversion\u001b[38;5;132;01m}\u001b[39;00m\u001b[38;5;124m.explanation.jsonl\u001b[39m\u001b[38;5;124m\"\u001b[39m\n\u001b[1;32m     38\u001b[0m model_output \u001b[38;5;241m=\u001b[39m load_jsonl(model_output_path)\n\u001b[0;32m---> 40\u001b[0m distances \u001b[38;5;241m=\u001b[39m \u001b[43mcalculate_distances\u001b[49m\u001b[43m(\u001b[49m\u001b[43mmodel_output\u001b[49m\u001b[43m[\u001b[49m\u001b[43m:\u001b[49m\u001b[38;5;241;43m100\u001b[39;49m\u001b[43m]\u001b[49m\u001b[43m,\u001b[49m\u001b[43m \u001b[49m\u001b[43mgold_data\u001b[49m\u001b[43m[\u001b[49m\u001b[43m:\u001b[49m\u001b[38;5;241;43m100\u001b[39;49m\u001b[43m]\u001b[49m\u001b[43m,\u001b[49m\u001b[43m \u001b[49m\u001b[43mversion\u001b[49m\u001b[43m)\u001b[49m\n\u001b[1;32m     42\u001b[0m median_distance \u001b[38;5;241m=\u001b[39m np\u001b[38;5;241m.\u001b[39mmedian(distances)\n\u001b[1;32m     43\u001b[0m \u001b[38;5;28mprint\u001b[39m(\u001b[38;5;124mf\u001b[39m\u001b[38;5;124m\"\u001b[39m\u001b[38;5;124mMedian distance for \u001b[39m\u001b[38;5;132;01m{\u001b[39;00mversion\u001b[38;5;132;01m}\u001b[39;00m\u001b[38;5;124m: \u001b[39m\u001b[38;5;132;01m{\u001b[39;00mmedian_distance\u001b[38;5;132;01m}\u001b[39;00m\u001b[38;5;124m\"\u001b[39m)\n",
      "Cell \u001b[0;32mIn[1], line 23\u001b[0m, in \u001b[0;36mcalculate_distances\u001b[0;34m(model_output, gold_data, version)\u001b[0m\n\u001b[1;32m     13\u001b[0m     model_cot \u001b[38;5;241m=\u001b[39m {\n\u001b[1;32m     14\u001b[0m         \u001b[38;5;124m\"\u001b[39m\u001b[38;5;124mchain_of_thought\u001b[39m\u001b[38;5;124m\"\u001b[39m: model_item[\u001b[38;5;124m\"\u001b[39m\u001b[38;5;124mchain_of_thought\u001b[39m\u001b[38;5;124m\"\u001b[39m],\n\u001b[1;32m     15\u001b[0m         \u001b[38;5;124m\"\u001b[39m\u001b[38;5;124manswer\u001b[39m\u001b[38;5;124m\"\u001b[39m: model_item[\u001b[38;5;124m\"\u001b[39m\u001b[38;5;124manswer\u001b[39m\u001b[38;5;124m\"\u001b[39m],\n\u001b[1;32m     16\u001b[0m         \u001b[38;5;124m\"\u001b[39m\u001b[38;5;124mquestion\u001b[39m\u001b[38;5;124m\"\u001b[39m: model_item[\u001b[38;5;124m\"\u001b[39m\u001b[38;5;124mquestion\u001b[39m\u001b[38;5;124m\"\u001b[39m]\n\u001b[1;32m     17\u001b[0m     }\n\u001b[1;32m     18\u001b[0m     gold_cot \u001b[38;5;241m=\u001b[39m {\n\u001b[1;32m     19\u001b[0m         \u001b[38;5;124m\"\u001b[39m\u001b[38;5;124mchain_of_thought\u001b[39m\u001b[38;5;124m\"\u001b[39m: gold_item[version][\u001b[38;5;124m\"\u001b[39m\u001b[38;5;124mchain_of_thought\u001b[39m\u001b[38;5;124m\"\u001b[39m],\n\u001b[1;32m     20\u001b[0m         \u001b[38;5;124m\"\u001b[39m\u001b[38;5;124manswer\u001b[39m\u001b[38;5;124m\"\u001b[39m: gold_item[version][\u001b[38;5;124m\"\u001b[39m\u001b[38;5;124manswer\u001b[39m\u001b[38;5;124m\"\u001b[39m],\n\u001b[1;32m     21\u001b[0m         \u001b[38;5;124m\"\u001b[39m\u001b[38;5;124mquestion\u001b[39m\u001b[38;5;124m\"\u001b[39m: gold_item[version][\u001b[38;5;124m\"\u001b[39m\u001b[38;5;124mquestion\u001b[39m\u001b[38;5;124m\"\u001b[39m]\n\u001b[1;32m     22\u001b[0m     }\n\u001b[0;32m---> 23\u001b[0m     distance \u001b[38;5;241m=\u001b[39m \u001b[43mcompare_rationales\u001b[49m\u001b[43m(\u001b[49m\u001b[43mmodel_cot\u001b[49m\u001b[43m,\u001b[49m\u001b[43m \u001b[49m\u001b[43mgold_cot\u001b[49m\u001b[43m)\u001b[49m\n\u001b[1;32m     24\u001b[0m     distances\u001b[38;5;241m.\u001b[39mappend(distance)\n\u001b[1;32m     25\u001b[0m \u001b[38;5;28;01mreturn\u001b[39;00m distances\n",
      "File \u001b[0;32m~/mikd/cotkd_mi/distillation/calculate_distance.py:80\u001b[0m, in \u001b[0;36mcompare_rationales\u001b[0;34m(cot1, cot2)\u001b[0m\n\u001b[1;32m     77\u001b[0m proofs_only \u001b[38;5;241m=\u001b[39m cot1[\u001b[38;5;124m'\u001b[39m\u001b[38;5;124manswer\u001b[39m\u001b[38;5;124m'\u001b[39m] \u001b[38;5;241m==\u001b[39m \u001b[38;5;124m'\u001b[39m\u001b[38;5;124mN/A\u001b[39m\u001b[38;5;124m'\u001b[39m \u001b[38;5;129;01mor\u001b[39;00m cot2[\u001b[38;5;124m'\u001b[39m\u001b[38;5;124manswer\u001b[39m\u001b[38;5;124m'\u001b[39m] \u001b[38;5;241m==\u001b[39m \u001b[38;5;124m'\u001b[39m\u001b[38;5;124mN/A\u001b[39m\u001b[38;5;124m'\u001b[39m\n\u001b[1;32m     79\u001b[0m \u001b[38;5;66;03m# analyze cot2 compare to cot1\u001b[39;00m\n\u001b[0;32m---> 80\u001b[0m result2 \u001b[38;5;241m=\u001b[39m \u001b[43manalyze_chain\u001b[49m\u001b[43m(\u001b[49m\u001b[43mcot2\u001b[49m\u001b[43m,\u001b[49m\u001b[43m \u001b[49m\u001b[43mquestion\u001b[49m\u001b[43m,\u001b[49m\u001b[43m \u001b[49m\u001b[43mexpected_answer\u001b[49m\u001b[43m,\u001b[49m\u001b[43m \u001b[49m\u001b[43mproofs_only\u001b[49m\u001b[43m)\u001b[49m\n\u001b[1;32m     82\u001b[0m accuracy2 \u001b[38;5;241m=\u001b[39m result2[\u001b[38;5;124m'\u001b[39m\u001b[38;5;124maccuracy\u001b[39m\u001b[38;5;124m'\u001b[39m]\n\u001b[1;32m     83\u001b[0m total_steps2 \u001b[38;5;241m=\u001b[39m \u001b[38;5;28mlen\u001b[39m(cot2[\u001b[38;5;124m'\u001b[39m\u001b[38;5;124mchain_of_thought\u001b[39m\u001b[38;5;124m'\u001b[39m])\n",
      "File \u001b[0;32m~/mikd/cotkd_mi/distillation/calculate_distance.py:43\u001b[0m, in \u001b[0;36mcompare_rationales.<locals>.analyze_chain\u001b[0;34m(chain, question, expected_answer, proofs_only)\u001b[0m\n\u001b[1;32m     37\u001b[0m expected_proof \u001b[38;5;241m=\u001b[39m parse_reasoning(expected_answer, parse_errors)\n\u001b[1;32m     39\u001b[0m \u001b[38;5;66;03m# print(chain['answer'])\u001b[39;00m\n\u001b[1;32m     40\u001b[0m \u001b[38;5;66;03m# print(\"prooooooooooooooooofs_onlt=\")\u001b[39;00m\n\u001b[1;32m     41\u001b[0m \u001b[38;5;66;03m# print(proofs_only)\u001b[39;00m\n\u001b[0;32m---> 43\u001b[0m result \u001b[38;5;241m=\u001b[39m \u001b[43mevaluate_response\u001b[49m\u001b[43m(\u001b[49m\u001b[43mpredicted_proof\u001b[49m\u001b[43m,\u001b[49m\u001b[43m \u001b[49m\u001b[43mpredicted_label\u001b[49m\u001b[43m,\u001b[49m\u001b[43m \u001b[49m\u001b[43mexpected_answer\u001b[49m\u001b[43m,\u001b[49m\n\u001b[1;32m     44\u001b[0m \u001b[43m                           \u001b[49m\u001b[43mparse_reasoning\u001b[49m\u001b[43m(\u001b[49m\u001b[43mquestion\u001b[49m\u001b[43m,\u001b[49m\u001b[43m \u001b[49m\u001b[43mparse_errors\u001b[49m\u001b[43m)\u001b[49m\u001b[43m,\u001b[49m\u001b[43m \u001b[49m\u001b[43mproofs_only\u001b[49m\u001b[43m,\u001b[49m\u001b[43m \u001b[49m\u001b[43mparse_errors\u001b[49m\u001b[43m)\u001b[49m\n\u001b[1;32m     46\u001b[0m (_, _, correct_steps, correct_and_useful_steps, redundant_steps, unparseable_steps,\n\u001b[1;32m     47\u001b[0m  wrong_branch_steps, useful_skip_steps, wrong_skip_steps, useful_non_atomic_steps,\n\u001b[1;32m     48\u001b[0m  wrong_non_atomic_steps, invalid_steps, incorrect_steps, found_conclusion, _, _) \u001b[38;5;241m=\u001b[39m result\n\u001b[1;32m     50\u001b[0m total_steps \u001b[38;5;241m=\u001b[39m \u001b[38;5;28mlen\u001b[39m(chain[\u001b[38;5;124m'\u001b[39m\u001b[38;5;124mchain_of_thought\u001b[39m\u001b[38;5;124m'\u001b[39m])\n",
      "File \u001b[0;32m~/mikd/cotkd_mi/distillation/run_experiment.py:888\u001b[0m, in \u001b[0;36mevaluate_response\u001b[0;34m(response_proof, response_label, expected_answer, axioms, proofs_only, parse_errors)\u001b[0m\n\u001b[1;32m    885\u001b[0m     \u001b[38;5;28;01mcontinue\u001b[39;00m\n\u001b[1;32m    887\u001b[0m is_useful \u001b[38;5;241m=\u001b[39m (proof_step \u001b[38;5;129;01min\u001b[39;00m expected_proof)\n\u001b[0;32m--> 888\u001b[0m \u001b[38;5;28;01mif\u001b[39;00m \u001b[38;5;28mtype\u001b[39m(\u001b[43mexpected_proof\u001b[49m\u001b[43m[\u001b[49m\u001b[38;5;241;43m-\u001b[39;49m\u001b[38;5;241;43m1\u001b[39;49m\u001b[43m]\u001b[49m) \u001b[38;5;241m==\u001b[39m \u001b[38;5;28mtype\u001b[39m(proof_step) \u001b[38;5;129;01mand\u001b[39;00m (\u001b[38;5;28mtype\u001b[39m(proof_step) \u001b[38;5;241m==\u001b[39m fol\u001b[38;5;241m.\u001b[39mFOLAnd \u001b[38;5;129;01mor\u001b[39;00m \u001b[38;5;28mtype\u001b[39m(proof_step) \u001b[38;5;241m==\u001b[39m fol\u001b[38;5;241m.\u001b[39mFOLOr):\n\u001b[1;32m    889\u001b[0m     \u001b[38;5;66;03m# allow for reordering of operands\u001b[39;00m\n\u001b[1;32m    890\u001b[0m     is_conclusion \u001b[38;5;241m=\u001b[39m \u001b[38;5;28mfrozenset\u001b[39m(proof_step\u001b[38;5;241m.\u001b[39moperands) \u001b[38;5;241m==\u001b[39m \u001b[38;5;28mfrozenset\u001b[39m(\n\u001b[1;32m    891\u001b[0m         expected_proof[\u001b[38;5;241m-\u001b[39m\u001b[38;5;241m1\u001b[39m]\u001b[38;5;241m.\u001b[39moperands)\n\u001b[1;32m    892\u001b[0m \u001b[38;5;28;01melse\u001b[39;00m:\n",
      "\u001b[0;31mIndexError\u001b[0m: list index out of range"
     ]
    }
   ],
   "source": [
    "import json\n",
    "import numpy as np\n",
    "from tqdm import tqdm\n",
    "from calculate_distance import compare_rationales\n",
    "\n",
    "def load_jsonl(file_path):\n",
    "    with open(file_path, 'r') as f:\n",
    "        return [json.loads(line) for line in f]\n",
    "\n",
    "def calculate_distances(model_output, gold_data, version):\n",
    "    distances = []\n",
    "    for model_item, gold_item in tqdm(zip(model_output, gold_data), total=len(model_output)):\n",
    "        model_cot = {\n",
    "            \"chain_of_thought\": model_item[\"chain_of_thought\"],\n",
    "            \"answer\": model_item[\"answer\"],\n",
    "            \"question\": model_item[\"question\"]\n",
    "        }\n",
    "        gold_cot = {\n",
    "            \"chain_of_thought\": gold_item[version][\"chain_of_thought\"],\n",
    "            \"answer\": gold_item[version][\"answer\"],\n",
    "            \"question\": gold_item[version][\"question\"]\n",
    "        }\n",
    "        distance = compare_rationales(model_cot, gold_cot)\n",
    "        distances.append(distance)\n",
    "    return distances\n",
    "\n",
    "def main():\n",
    "    versions = ['base', 'distractor', 'modified']\n",
    "    # versions = ['base']\n",
    "    gold_data_path = \"./data/CounterCoTQA/dev.jsonl\"\n",
    "    \n",
    "    gold_data = load_jsonl(gold_data_path)\n",
    "\n",
    "    for version in versions:\n",
    "        print(f\"Processing version: {version}\")\n",
    "        \n",
    "        model_output_path = f\"./outputs/CounterCoTQA/gpt-4o/dev.{version}.explanation.jsonl\"\n",
    "        model_output = load_jsonl(model_output_path)\n",
    "        \n",
    "        distances = calculate_distances(model_output[:38], gold_data[:38], version)\n",
    "        \n",
    "        median_distance = np.median(distances)\n",
    "        print(f\"Median distance for {version}: {median_distance}\")\n",
    "        \n",
    "        \n",
    "        print(f\"Distances for {version} saved.\")\n",
    "\n",
    "if __name__ == \"__main__\":\n",
    "    main()"
   ]
  }
 ],
 "metadata": {
  "kernelspec": {
   "display_name": "mikd",
   "language": "python",
   "name": "python3"
  },
  "language_info": {
   "codemirror_mode": {
    "name": "ipython",
    "version": 3
   },
   "file_extension": ".py",
   "mimetype": "text/x-python",
   "name": "python",
   "nbconvert_exporter": "python",
   "pygments_lexer": "ipython3",
   "version": "3.10.14"
  }
 },
 "nbformat": 4,
 "nbformat_minor": 2
}
